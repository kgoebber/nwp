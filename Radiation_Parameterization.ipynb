{
 "cells": [
  {
   "cell_type": "code",
   "execution_count": 1,
   "metadata": {},
   "outputs": [],
   "source": [
    "import numpy as np\n",
    "import matplotlib.pyplot as plt\n",
    "\n",
    "plt.rc('font', size = 12)\n"
   ]
  },
  {
   "cell_type": "code",
   "execution_count": 6,
   "metadata": {},
   "outputs": [],
   "source": [
    "def radiation_scheme(x):\n",
    "    #x = float(input(\"Specify an ozone path length (0.2 to 0.6): \\n\"))\n",
    "\n",
    "    Ra_star=0.144\n",
    "    Rg=0.10\n",
    "    M_bar=1.9\n",
    "    S_o=1368.0\n",
    "    sun_ang = 20.0\n",
    "\n",
    "    fig = plt.figure(1, figsize=(15,7.5))\n",
    "    ax1 = plt.subplot(121)\n",
    "    #plt.axis([0,.5,0,8])\n",
    "    plt.title('Magnification Factor By Zenith Angle')\n",
    "    plt.ylabel('Zenith Angle')\n",
    "    plt.xlabel('Magnification Factor')\n",
    "    plt.yticks(range(8), [10,20,30,40,50,60,70,80])\n",
    "    ax2 = plt.subplot(122)\n",
    "    #plt.axis([0,50,0,8])\n",
    "    plt.title('Absorption of Solar Radiation by Ozone')\n",
    "    plt.ylabel('Zenith Angle')\n",
    "    plt.xlabel('Absorbed Radiation (W m-2)')\n",
    "    plt.xlim(0, 50)\n",
    "    plt.yticks(range(8), [10,20,30,40,50,60,70,80])\n",
    "\n",
    "    for y in range(1,8):\n",
    "        mu=np.cos((sun_ang)*np.pi/180)\n",
    "        # Effective albedo of the lower atmosphere\n",
    "        Ra=(0.219/(1+0.816*mu))\n",
    "        print()\n",
    "\n",
    "        # Accounting for the Albedo of a reflecting region\n",
    "        Ru=Ra+((1-Ra)*(1-Ra_star)*Rg/(1-Ra_star*Rg))\n",
    "\n",
    "        # Magnification factor, accounts for path slant and refraction\n",
    "        M=(35/(1224*(mu**2)+1)**(1/2))\n",
    "\n",
    "        # Absorption of shortwave radiation in VIS spectrum\n",
    "        A_vis=(0.02118*x/(1+0.042*x+0.000323*(x**2)))\n",
    "\n",
    "        # Absorption of shortwave radiation in UV spectrum\n",
    "        A_uv=(1.082*x/((1+138.6*x)**0.805))+(0.0658*x/(1+(103.6*x)**3))\n",
    "\n",
    "        # Total Absorption by VIS and UV spectrum for the given path length of ozone.\n",
    "        A_t=A_vis+A_uv\n",
    "\n",
    "        # Diffuse Radiation Path\n",
    "        x_1=x*(M+M_bar)\n",
    "\n",
    "        # Absorption of Shortwave radiation by visible band\n",
    "        A_vis_1=(0.02118*x_1/(1+0.042*x_1+0.000323*(x_1**2)))\n",
    "\n",
    "        # Abosorption of Shortwave radiation by UV band\n",
    "        A_uv_1=(1.082*x_1/((1+138.6*x_1)**0.805))+(0.0658*x_1/(1+(103.6*x_1)**3))\n",
    "\n",
    "        # Total Absorption of a layer the sum of VIS and UV absorption\n",
    "        A_t_1=A_vis_1+A_uv_1\n",
    "\n",
    "        # Ozone path times the magnification factor (accounts for path slant and refraction)\n",
    "        x_2=x*M\n",
    "\n",
    "        A_vis_2=(0.02118*x_2/(1+0.042*x_2+0.000323*(x_2**2))) \n",
    "        A_uv_2=(1.082*x_2/((1+138.6*x_2)**0.805))+(0.0658*x_2/(1+(103.6*x_2)**3))\n",
    "        A_t_2=A_vis_2+A_uv_2\n",
    "\n",
    "        # Final absorption assuming a single layer of ozone above the\n",
    "        # tropopause with an ozone path x, above a single scattering layer\n",
    "        A=mu*(A_t+Ru*(A_t_1-A_t_2))\n",
    "\n",
    "        S=S_o*A\n",
    "\n",
    "        ax1.barh(y, M, .5, align='center')\n",
    "        ax2.barh(y, S, .5, align='center')\n",
    "        \n",
    "        sun_ang = sun_ang + 10."
   ]
  },
  {
   "cell_type": "code",
   "execution_count": 7,
   "metadata": {},
   "outputs": [
    {
     "data": {
      "application/vnd.jupyter.widget-view+json": {
       "model_id": "e0531f46c022450b949257e3b5514658",
       "version_major": 2,
       "version_minor": 0
      },
      "text/plain": [
       "interactive(children=(FloatSlider(value=0.3, description='Ozone Depth: ', max=0.61, min=0.2, step=0.01, style=…"
      ]
     },
     "metadata": {},
     "output_type": "display_data"
    }
   ],
   "source": [
    "from ipywidgets import interact, widgets\n",
    "\n",
    "style = {'description_width': 'initial'}\n",
    "interact(radiation_scheme, x = widgets.FloatSlider(min=0.2,max=0.61,step=.01,value=.3, description='Ozone Depth: ',\n",
    "         style=style));"
   ]
  },
  {
   "cell_type": "code",
   "execution_count": null,
   "metadata": {},
   "outputs": [],
   "source": []
  }
 ],
 "metadata": {
  "kernelspec": {
   "display_name": "Python 3",
   "language": "python",
   "name": "python3"
  },
  "language_info": {
   "codemirror_mode": {
    "name": "ipython",
    "version": 3
   },
   "file_extension": ".py",
   "mimetype": "text/x-python",
   "name": "python",
   "nbconvert_exporter": "python",
   "pygments_lexer": "ipython3",
   "version": "3.6.7"
  }
 },
 "nbformat": 4,
 "nbformat_minor": 4
}
